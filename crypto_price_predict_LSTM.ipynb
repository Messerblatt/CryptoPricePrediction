{
 "cells": [
  {
   "cell_type": "code",
   "execution_count": 16,
   "id": "62cc47fc",
   "metadata": {
    "_cell_guid": "b1076dfc-b9ad-4769-8c92-a6c4dae69d19",
    "_uuid": "8f2839f25d086af736a60e9eeb907d3b93b6e0e5",
    "execution": {
     "iopub.execute_input": "2021-08-19T20:48:22.123081Z",
     "iopub.status.busy": "2021-08-19T20:48:22.122323Z",
     "iopub.status.idle": "2021-08-19T20:48:22.165891Z",
     "shell.execute_reply": "2021-08-19T20:48:22.164580Z",
     "shell.execute_reply.started": "2021-08-19T20:35:19.096137Z"
    },
    "papermill": {
     "duration": 0.076698,
     "end_time": "2021-08-19T20:48:22.166191",
     "exception": false,
     "start_time": "2021-08-19T20:48:22.089493",
     "status": "completed"
    },
    "tags": []
   },
   "outputs": [
    {
     "name": "stdout",
     "output_type": "stream",
     "text": [
      "input\\cryptocurrencypricehistory\\coin_Aave.csv\n",
      "input\\cryptocurrencypricehistory\\coin_BinanceCoin.csv\n",
      "input\\cryptocurrencypricehistory\\coin_Bitcoin.csv\n",
      "input\\cryptocurrencypricehistory\\coin_Cardano.csv\n",
      "input\\cryptocurrencypricehistory\\coin_ChainLink.csv\n",
      "input\\cryptocurrencypricehistory\\coin_Cosmos.csv\n",
      "input\\cryptocurrencypricehistory\\coin_CryptocomCoin.csv\n",
      "input\\cryptocurrencypricehistory\\coin_Dogecoin.csv\n",
      "input\\cryptocurrencypricehistory\\coin_EOS.csv\n",
      "input\\cryptocurrencypricehistory\\coin_Ethereum.csv\n",
      "input\\cryptocurrencypricehistory\\coin_Iota.csv\n",
      "input\\cryptocurrencypricehistory\\coin_Litecoin.csv\n",
      "input\\cryptocurrencypricehistory\\coin_Monero.csv\n",
      "input\\cryptocurrencypricehistory\\coin_NEM.csv\n",
      "input\\cryptocurrencypricehistory\\coin_Polkadot.csv\n",
      "input\\cryptocurrencypricehistory\\coin_Solana.csv\n",
      "input\\cryptocurrencypricehistory\\coin_Stellar.csv\n",
      "input\\cryptocurrencypricehistory\\coin_Tether.csv\n",
      "input\\cryptocurrencypricehistory\\coin_Tron.csv\n",
      "input\\cryptocurrencypricehistory\\coin_Uniswap.csv\n",
      "input\\cryptocurrencypricehistory\\coin_USDCoin.csv\n",
      "input\\cryptocurrencypricehistory\\coin_WrappedBitcoin.csv\n",
      "input\\cryptocurrencypricehistory\\coin_XRP.csv\n",
      "input\\ethereum-data\\ETH-USD.csv\n"
     ]
    }
   ],
   "source": [
    "\n",
    "import numpy as np # linear algebra\n",
    "import pandas as pd # data processing\n",
    "\n",
    "# Input data files located in \"input/\" directory\n",
    "\n",
    "import os\n",
    "for dirname, _, filenames in os.walk('input'):\n",
    "    for filename in filenames:\n",
    "        print(os.path.join(dirname, filename))"
   ]
  },
  {
   "cell_type": "markdown",
   "id": "f58c5083",
   "metadata": {
    "papermill": {
     "duration": 0.028164,
     "end_time": "2021-08-19T20:48:22.224469",
     "exception": false,
     "start_time": "2021-08-19T20:48:22.196305",
     "status": "completed"
    },
    "tags": []
   },
   "source": [
    "Lets begin by importing our Bitcoin price data.\n",
    "\n",
    "`chosen_col` variable can be changed here to alter what recorded price to use."
   ]
  },
  {
   "cell_type": "code",
   "execution_count": 3,
   "id": "decf551f",
   "metadata": {
    "execution": {
     "iopub.execute_input": "2021-08-19T20:48:22.274459Z",
     "iopub.status.busy": "2021-08-19T20:48:22.273751Z",
     "iopub.status.idle": "2021-08-19T20:48:22.388908Z",
     "shell.execute_reply": "2021-08-19T20:48:22.388229Z",
     "shell.execute_reply.started": "2021-08-19T20:35:19.114247Z"
    },
    "papermill": {
     "duration": 0.140044,
     "end_time": "2021-08-19T20:48:22.389122",
     "exception": false,
     "start_time": "2021-08-19T20:48:22.249078",
     "status": "completed"
    },
    "tags": []
   },
   "outputs": [],
   "source": [
    "import matplotlib.pyplot as plt\n",
    "\n",
    "data = 'input/cryptocurrencypricehistory/coin_Bitcoin.csv'\n",
    "dataset = pd.read_csv(data)\n",
    "chosen_col = 'Close'"
   ]
  },
  {
   "cell_type": "markdown",
   "id": "93f9a3fc",
   "metadata": {
    "papermill": {
     "duration": 0.018814,
     "end_time": "2021-08-19T20:48:22.427511",
     "exception": false,
     "start_time": "2021-08-19T20:48:22.408697",
     "status": "completed"
    },
    "tags": []
   },
   "source": [
    "Taking a look at the first few columns."
   ]
  },
  {
   "cell_type": "code",
   "execution_count": 4,
   "id": "ee59a4c5",
   "metadata": {
    "execution": {
     "iopub.execute_input": "2021-08-19T20:48:22.480159Z",
     "iopub.status.busy": "2021-08-19T20:48:22.479349Z",
     "iopub.status.idle": "2021-08-19T20:48:22.503203Z",
     "shell.execute_reply": "2021-08-19T20:48:22.503810Z",
     "shell.execute_reply.started": "2021-08-19T20:35:19.143667Z"
    },
    "papermill": {
     "duration": 0.056376,
     "end_time": "2021-08-19T20:48:22.504056",
     "exception": false,
     "start_time": "2021-08-19T20:48:22.447680",
     "status": "completed"
    },
    "tags": []
   },
   "outputs": [
    {
     "name": "stdout",
     "output_type": "stream",
     "text": [
      "2991\n"
     ]
    },
    {
     "data": {
      "text/html": [
       "<div>\n",
       "<style scoped>\n",
       "    .dataframe tbody tr th:only-of-type {\n",
       "        vertical-align: middle;\n",
       "    }\n",
       "\n",
       "    .dataframe tbody tr th {\n",
       "        vertical-align: top;\n",
       "    }\n",
       "\n",
       "    .dataframe thead th {\n",
       "        text-align: right;\n",
       "    }\n",
       "</style>\n",
       "<table border=\"1\" class=\"dataframe\">\n",
       "  <thead>\n",
       "    <tr style=\"text-align: right;\">\n",
       "      <th></th>\n",
       "      <th>SNo</th>\n",
       "      <th>Name</th>\n",
       "      <th>Symbol</th>\n",
       "      <th>Date</th>\n",
       "      <th>High</th>\n",
       "      <th>Low</th>\n",
       "      <th>Open</th>\n",
       "      <th>Close</th>\n",
       "      <th>Volume</th>\n",
       "      <th>Marketcap</th>\n",
       "    </tr>\n",
       "  </thead>\n",
       "  <tbody>\n",
       "    <tr>\n",
       "      <th>0</th>\n",
       "      <td>1</td>\n",
       "      <td>Bitcoin</td>\n",
       "      <td>BTC</td>\n",
       "      <td>2013-04-29 23:59:59</td>\n",
       "      <td>147.488007</td>\n",
       "      <td>134.000000</td>\n",
       "      <td>134.444000</td>\n",
       "      <td>144.539993</td>\n",
       "      <td>0.0</td>\n",
       "      <td>1.603769e+09</td>\n",
       "    </tr>\n",
       "    <tr>\n",
       "      <th>1</th>\n",
       "      <td>2</td>\n",
       "      <td>Bitcoin</td>\n",
       "      <td>BTC</td>\n",
       "      <td>2013-04-30 23:59:59</td>\n",
       "      <td>146.929993</td>\n",
       "      <td>134.050003</td>\n",
       "      <td>144.000000</td>\n",
       "      <td>139.000000</td>\n",
       "      <td>0.0</td>\n",
       "      <td>1.542813e+09</td>\n",
       "    </tr>\n",
       "    <tr>\n",
       "      <th>2</th>\n",
       "      <td>3</td>\n",
       "      <td>Bitcoin</td>\n",
       "      <td>BTC</td>\n",
       "      <td>2013-05-01 23:59:59</td>\n",
       "      <td>139.889999</td>\n",
       "      <td>107.720001</td>\n",
       "      <td>139.000000</td>\n",
       "      <td>116.989998</td>\n",
       "      <td>0.0</td>\n",
       "      <td>1.298955e+09</td>\n",
       "    </tr>\n",
       "    <tr>\n",
       "      <th>3</th>\n",
       "      <td>4</td>\n",
       "      <td>Bitcoin</td>\n",
       "      <td>BTC</td>\n",
       "      <td>2013-05-02 23:59:59</td>\n",
       "      <td>125.599998</td>\n",
       "      <td>92.281898</td>\n",
       "      <td>116.379997</td>\n",
       "      <td>105.209999</td>\n",
       "      <td>0.0</td>\n",
       "      <td>1.168517e+09</td>\n",
       "    </tr>\n",
       "    <tr>\n",
       "      <th>4</th>\n",
       "      <td>5</td>\n",
       "      <td>Bitcoin</td>\n",
       "      <td>BTC</td>\n",
       "      <td>2013-05-03 23:59:59</td>\n",
       "      <td>108.127998</td>\n",
       "      <td>79.099998</td>\n",
       "      <td>106.250000</td>\n",
       "      <td>97.750000</td>\n",
       "      <td>0.0</td>\n",
       "      <td>1.085995e+09</td>\n",
       "    </tr>\n",
       "  </tbody>\n",
       "</table>\n",
       "</div>"
      ],
      "text/plain": [
       "   SNo     Name Symbol                 Date        High         Low  \\\n",
       "0    1  Bitcoin    BTC  2013-04-29 23:59:59  147.488007  134.000000   \n",
       "1    2  Bitcoin    BTC  2013-04-30 23:59:59  146.929993  134.050003   \n",
       "2    3  Bitcoin    BTC  2013-05-01 23:59:59  139.889999  107.720001   \n",
       "3    4  Bitcoin    BTC  2013-05-02 23:59:59  125.599998   92.281898   \n",
       "4    5  Bitcoin    BTC  2013-05-03 23:59:59  108.127998   79.099998   \n",
       "\n",
       "         Open       Close  Volume     Marketcap  \n",
       "0  134.444000  144.539993     0.0  1.603769e+09  \n",
       "1  144.000000  139.000000     0.0  1.542813e+09  \n",
       "2  139.000000  116.989998     0.0  1.298955e+09  \n",
       "3  116.379997  105.209999     0.0  1.168517e+09  \n",
       "4  106.250000   97.750000     0.0  1.085995e+09  "
      ]
     },
     "execution_count": 4,
     "metadata": {},
     "output_type": "execute_result"
    }
   ],
   "source": [
    "print(len(dataset))\n",
    "dataset.head()"
   ]
  },
  {
   "cell_type": "markdown",
   "id": "2af6de93",
   "metadata": {
    "papermill": {
     "duration": 0.020271,
     "end_time": "2021-08-19T20:48:22.545465",
     "exception": false,
     "start_time": "2021-08-19T20:48:22.525194",
     "status": "completed"
    },
    "tags": []
   },
   "source": [
    "Splitting our data into training set and test set."
   ]
  },
  {
   "cell_type": "code",
   "execution_count": 15,
   "id": "97b360aa",
   "metadata": {
    "execution": {
     "iopub.execute_input": "2021-08-19T20:48:22.597106Z",
     "iopub.status.busy": "2021-08-19T20:48:22.595959Z",
     "iopub.status.idle": "2021-08-19T20:48:22.600925Z",
     "shell.execute_reply": "2021-08-19T20:48:22.599887Z",
     "shell.execute_reply.started": "2021-08-19T20:35:19.167903Z"
    },
    "papermill": {
     "duration": 0.034795,
     "end_time": "2021-08-19T20:48:22.601147",
     "exception": false,
     "start_time": "2021-08-19T20:48:22.566352",
     "status": "completed"
    },
    "tags": []
   },
   "outputs": [],
   "source": [
    "split_row = len(dataset) - int(0.2 * len(dataset))\n",
    "train_data = dataset.iloc[:split_row]\n",
    "test_data = dataset.iloc[split_row:]"
   ]
  },
  {
   "cell_type": "code",
   "execution_count": 6,
   "id": "8b9c79a1",
   "metadata": {
    "execution": {
     "iopub.execute_input": "2021-08-19T20:48:22.670373Z",
     "iopub.status.busy": "2021-08-19T20:48:22.669552Z",
     "iopub.status.idle": "2021-08-19T20:48:22.940931Z",
     "shell.execute_reply": "2021-08-19T20:48:22.940244Z",
     "shell.execute_reply.started": "2021-08-19T20:35:19.174232Z"
    },
    "papermill": {
     "duration": 0.319622,
     "end_time": "2021-08-19T20:48:22.941108",
     "exception": false,
     "start_time": "2021-08-19T20:48:22.621486",
     "status": "completed"
    },
    "tags": []
   },
   "outputs": [
    {
     "data": {
      "text/plain": [
       "<matplotlib.legend.Legend at 0x2995ba6e240>"
      ]
     },
     "execution_count": 6,
     "metadata": {},
     "output_type": "execute_result"
    },
    {
     "data": {
      "image/png": "[encoded data removed]",
      "text/plain": [
       "<Figure size 1300x700 with 1 Axes>"
      ]
     },
     "metadata": {},
     "output_type": "display_data"
    }
   ],
   "source": [
    "fig, ax = plt.subplots(1, figsize=(13, 7))\n",
    "ax.plot(train_data[chosen_col], label='Train', linewidth=2)\n",
    "ax.plot(test_data[chosen_col], label='Test', linewidth=2)\n",
    "ax.set_ylabel('Price USD', fontsize=14)\n",
    "ax.set_title('', fontsize=16)\n",
    "ax.legend(loc='best', fontsize=16)"
   ]
  },
  {
   "cell_type": "markdown",
   "id": "7090666c",
   "metadata": {
    "papermill": {
     "duration": 0.021727,
     "end_time": "2021-08-19T20:48:22.986335",
     "exception": false,
     "start_time": "2021-08-19T20:48:22.964608",
     "status": "completed"
    },
    "tags": []
   },
   "source": [
    "We see some pretty wild fluctuations at the end. Lets leave this as it is for now.\n",
    "\n",
    "Continue by normalizing the values to floats between 0-1. We are using sklearn's `MinMaxScaler`. We need to be careful to fit the scaler on our entire data range or else we will end up with a messed up scale between our test data and our train data. After we fit it we then transform both our test and training data."
   ]
  },
  {
   "cell_type": "code",
   "execution_count": 7,
   "id": "2d07a83e",
   "metadata": {
    "execution": {
     "iopub.execute_input": "2021-08-19T20:48:23.040925Z",
     "iopub.status.busy": "2021-08-19T20:48:23.040170Z",
     "iopub.status.idle": "2021-08-19T20:48:23.871628Z",
     "shell.execute_reply": "2021-08-19T20:48:23.871024Z",
     "shell.execute_reply.started": "2021-08-19T20:35:19.404352Z"
    },
    "papermill": {
     "duration": 0.861776,
     "end_time": "2021-08-19T20:48:23.871809",
     "exception": false,
     "start_time": "2021-08-19T20:48:23.010033",
     "status": "completed"
    },
    "tags": []
   },
   "outputs": [],
   "source": [
    "from sklearn.preprocessing import MinMaxScaler\n",
    "\n",
    "datacol = dataset.iloc[:, 7:8].values\n",
    "traincol = train_data.iloc[:, 7:8].values\n",
    "testcol = test_data.iloc[:, 7:8].values\n",
    "\n",
    "shaped_data = np.reshape(datacol, (-1,1))\n",
    "train_shaped = np.reshape(traincol, (-1,1))\n",
    "test_shaped = np.reshape(testcol, (-1,1))\n",
    "\n",
    "sc = MinMaxScaler(feature_range=(0,1))\n",
    "sc.fit(shaped_data)\n",
    "\n",
    "train_scaled_data = sc.transform(train_shaped)\n",
    "test_scaled_data = sc.transform(test_shaped)"
   ]
  },
  {
   "cell_type": "markdown",
   "id": "ca128e27",
   "metadata": {
    "papermill": {
     "duration": 0.021304,
     "end_time": "2021-08-19T20:48:23.914431",
     "exception": false,
     "start_time": "2021-08-19T20:48:23.893127",
     "status": "completed"
    },
    "tags": []
   },
   "source": [
    "Now we seperate our training data into our inputs and our outputs in time steps of `time_steps`. Where we will look at `time_steps` amount of data before we make our prediction of what the output for `y` will be."
   ]
  },
  {
   "cell_type": "code",
   "execution_count": 8,
   "id": "413c912d",
   "metadata": {
    "execution": {
     "iopub.execute_input": "2021-08-19T20:48:23.969420Z",
     "iopub.status.busy": "2021-08-19T20:48:23.967845Z",
     "iopub.status.idle": "2021-08-19T20:48:23.977620Z",
     "shell.execute_reply": "2021-08-19T20:48:23.976908Z",
     "shell.execute_reply.started": "2021-08-19T20:35:19.416782Z"
    },
    "papermill": {
     "duration": 0.040729,
     "end_time": "2021-08-19T20:48:23.977777",
     "exception": false,
     "start_time": "2021-08-19T20:48:23.937048",
     "status": "completed"
    },
    "tags": []
   },
   "outputs": [],
   "source": [
    "X = []\n",
    "y = []\n",
    "time_steps = 50\n",
    "\n",
    "for i in range(time_steps, len(train_data)):\n",
    "    X.append(train_scaled_data[i-time_steps:i,0])\n",
    "    y.append(train_scaled_data[i, 0])\n",
    "\n",
    "X, y = np.array(X), np.array(y)\n",
    "X = np.reshape(X, (X.shape[0], X.shape[1], 1))"
   ]
  },
  {
   "cell_type": "markdown",
   "id": "39ca4b89",
   "metadata": {
    "papermill": {
     "duration": 0.019712,
     "end_time": "2021-08-19T20:48:24.018195",
     "exception": false,
     "start_time": "2021-08-19T20:48:23.998483",
     "status": "completed"
    },
    "tags": []
   },
   "source": [
    "Splitting our training data into training and validation."
   ]
  },
  {
   "cell_type": "code",
   "execution_count": 9,
   "id": "e31bfcd2",
   "metadata": {
    "execution": {
     "iopub.execute_input": "2021-08-19T20:48:24.061744Z",
     "iopub.status.busy": "2021-08-19T20:48:24.061089Z",
     "iopub.status.idle": "2021-08-19T20:48:24.119120Z",
     "shell.execute_reply": "2021-08-19T20:48:24.118468Z",
     "shell.execute_reply.started": "2021-08-19T20:35:19.437234Z"
    },
    "papermill": {
     "duration": 0.081121,
     "end_time": "2021-08-19T20:48:24.119258",
     "exception": false,
     "start_time": "2021-08-19T20:48:24.038137",
     "status": "completed"
    },
    "tags": []
   },
   "outputs": [],
   "source": [
    "from sklearn.model_selection import train_test_split\n",
    "\n",
    "X_train, X_test, y_train, y_test = train_test_split(X, y, test_size=0.2)"
   ]
  },
  {
   "cell_type": "markdown",
   "id": "2ed200f4",
   "metadata": {
    "papermill": {
     "duration": 0.023816,
     "end_time": "2021-08-19T20:48:24.164782",
     "exception": false,
     "start_time": "2021-08-19T20:48:24.140966",
     "status": "completed"
    },
    "tags": []
   },
   "source": [
    "Now we implement our actual model. We start with an LSTM input layer with 100 hidden units. We add a dropout of 0.2 before our Dense output layer with a linear activation and a shape of 1 (as we are outputting our expected price). We are using mean squared error to calculate our loss and adam as our optimizer."
   ]
  },
  {
   "cell_type": "code",
   "execution_count": 10,
   "id": "6fe56720",
   "metadata": {
    "execution": {
     "iopub.execute_input": "2021-08-19T20:48:24.231173Z",
     "iopub.status.busy": "2021-08-19T20:48:24.230204Z",
     "iopub.status.idle": "2021-08-19T20:48:30.125924Z",
     "shell.execute_reply": "2021-08-19T20:48:30.126402Z",
     "shell.execute_reply.started": "2021-08-19T20:35:19.465636Z"
    },
    "papermill": {
     "duration": 5.932731,
     "end_time": "2021-08-19T20:48:30.126582",
     "exception": false,
     "start_time": "2021-08-19T20:48:24.193851",
     "status": "completed"
    },
    "tags": []
   },
   "outputs": [
    {
     "name": "stderr",
     "output_type": "stream",
     "text": [
      "C:\\Users\\Admin\\AppData\\Roaming\\Python\\Python312\\site-packages\\keras\\src\\layers\\rnn\\rnn.py:205: UserWarning: Do not pass an `input_shape`/`input_dim` argument to a layer. When using Sequential models, prefer using an `Input(shape)` object as the first layer in the model instead.\n",
      "  super().__init__(**kwargs)\n"
     ]
    }
   ],
   "source": [
    "from keras.models import Sequential\n",
    "from keras.layers import LSTM\n",
    "from keras.layers import Dense\n",
    "from keras.layers import Dropout\n",
    "from keras.layers import Activation\n",
    "\n",
    "model = Sequential()\n",
    "model.add(LSTM(units=100, input_shape=(X_train.shape[1], X_train.shape[2])))\n",
    "model.add(Dropout(0.2))\n",
    "model.add(Dense(1))\n",
    "model.add(Activation('linear'))\n",
    "model.compile(optimizer='adam', loss='mse')"
   ]
  },
  {
   "cell_type": "markdown",
   "id": "7e0e7c48",
   "metadata": {
    "papermill": {
     "duration": 0.019575,
     "end_time": "2021-08-19T20:48:30.166074",
     "exception": false,
     "start_time": "2021-08-19T20:48:30.146499",
     "status": "completed"
    },
    "tags": []
   },
   "source": [
    "Fit our model now on our `X` and `y` training/validation data. We take advantage of keras' early stopping class so that once we are no longer recieving improvements the model will take its best weights and stop."
   ]
  },
  {
   "cell_type": "code",
   "execution_count": 11,
   "id": "295f5e12",
   "metadata": {
    "execution": {
     "iopub.execute_input": "2021-08-19T20:48:30.209475Z",
     "iopub.status.busy": "2021-08-19T20:48:30.208571Z",
     "iopub.status.idle": "2021-08-19T20:51:54.316801Z",
     "shell.execute_reply": "2021-08-19T20:51:54.316004Z",
     "shell.execute_reply.started": "2021-08-19T20:35:19.752419Z"
    },
    "papermill": {
     "duration": 204.130964,
     "end_time": "2021-08-19T20:51:54.316972",
     "exception": false,
     "start_time": "2021-08-19T20:48:30.186008",
     "status": "completed"
    },
    "tags": []
   },
   "outputs": [
    {
     "name": "stdout",
     "output_type": "stream",
     "text": [
      "Epoch 1/100\n",
      "\u001b[1m59/59\u001b[0m \u001b[32m━━━━━━━━━━━━━━━━━━━━\u001b[0m\u001b[37m\u001b[0m \u001b[1m3s\u001b[0m 23ms/step - loss: 0.0012 - val_loss: 7.9970e-05\n",
      "Epoch 2/100\n",
      "\u001b[1m59/59\u001b[0m \u001b[32m━━━━━━━━━━━━━━━━━━━━\u001b[0m\u001b[37m\u001b[0m \u001b[1m1s\u001b[0m 20ms/step - loss: 1.1249e-04 - val_loss: 6.6417e-05\n",
      "Epoch 3/100\n",
      "\u001b[1m59/59\u001b[0m \u001b[32m━━━━━━━━━━━━━━━━━━━━\u001b[0m\u001b[37m\u001b[0m \u001b[1m1s\u001b[0m 19ms/step - loss: 8.6656e-05 - val_loss: 6.3715e-05\n",
      "Epoch 4/100\n",
      "\u001b[1m59/59\u001b[0m \u001b[32m━━━━━━━━━━━━━━━━━━━━\u001b[0m\u001b[37m\u001b[0m \u001b[1m1s\u001b[0m 19ms/step - loss: 8.5055e-05 - val_loss: 6.5257e-05\n",
      "Epoch 5/100\n",
      "\u001b[1m59/59\u001b[0m \u001b[32m━━━━━━━━━━━━━━━━━━━━\u001b[0m\u001b[37m\u001b[0m \u001b[1m1s\u001b[0m 19ms/step - loss: 7.3780e-05 - val_loss: 6.0482e-05\n",
      "Epoch 6/100\n",
      "\u001b[1m59/59\u001b[0m \u001b[32m━━━━━━━━━━━━━━━━━━━━\u001b[0m\u001b[37m\u001b[0m \u001b[1m1s\u001b[0m 19ms/step - loss: 6.2332e-05 - val_loss: 4.9969e-05\n",
      "Epoch 7/100\n",
      "\u001b[1m59/59\u001b[0m \u001b[32m━━━━━━━━━━━━━━━━━━━━\u001b[0m\u001b[37m\u001b[0m \u001b[1m1s\u001b[0m 18ms/step - loss: 6.7270e-05 - val_loss: 5.5348e-05\n",
      "Epoch 8/100\n",
      "\u001b[1m59/59\u001b[0m \u001b[32m━━━━━━━━━━━━━━━━━━━━\u001b[0m\u001b[37m\u001b[0m \u001b[1m1s\u001b[0m 19ms/step - loss: 6.0675e-05 - val_loss: 5.5086e-05\n",
      "Epoch 9/100\n",
      "\u001b[1m59/59\u001b[0m \u001b[32m━━━━━━━━━━━━━━━━━━━━\u001b[0m\u001b[37m\u001b[0m \u001b[1m1s\u001b[0m 18ms/step - loss: 5.3631e-05 - val_loss: 5.7104e-05\n",
      "Epoch 10/100\n",
      "\u001b[1m59/59\u001b[0m \u001b[32m━━━━━━━━━━━━━━━━━━━━\u001b[0m\u001b[37m\u001b[0m \u001b[1m1s\u001b[0m 20ms/step - loss: 6.7631e-05 - val_loss: 5.8770e-05\n",
      "Epoch 11/100\n",
      "\u001b[1m59/59\u001b[0m \u001b[32m━━━━━━━━━━━━━━━━━━━━\u001b[0m\u001b[37m\u001b[0m \u001b[1m1s\u001b[0m 18ms/step - loss: 5.3620e-05 - val_loss: 3.6538e-05\n",
      "Epoch 12/100\n",
      "\u001b[1m59/59\u001b[0m \u001b[32m━━━━━━━━━━━━━━━━━━━━\u001b[0m\u001b[37m\u001b[0m \u001b[1m1s\u001b[0m 18ms/step - loss: 5.3066e-05 - val_loss: 4.0153e-05\n",
      "Epoch 13/100\n",
      "\u001b[1m59/59\u001b[0m \u001b[32m━━━━━━━━━━━━━━━━━━━━\u001b[0m\u001b[37m\u001b[0m \u001b[1m1s\u001b[0m 18ms/step - loss: 7.7460e-05 - val_loss: 5.8187e-05\n",
      "Epoch 14/100\n",
      "\u001b[1m59/59\u001b[0m \u001b[32m━━━━━━━━━━━━━━━━━━━━\u001b[0m\u001b[37m\u001b[0m \u001b[1m1s\u001b[0m 19ms/step - loss: 7.1069e-05 - val_loss: 3.4114e-05\n",
      "Epoch 15/100\n",
      "\u001b[1m59/59\u001b[0m \u001b[32m━━━━━━━━━━━━━━━━━━━━\u001b[0m\u001b[37m\u001b[0m \u001b[1m1s\u001b[0m 20ms/step - loss: 6.2167e-05 - val_loss: 3.5081e-05\n",
      "Epoch 16/100\n",
      "\u001b[1m59/59\u001b[0m \u001b[32m━━━━━━━━━━━━━━━━━━━━\u001b[0m\u001b[37m\u001b[0m \u001b[1m1s\u001b[0m 19ms/step - loss: 5.7313e-05 - val_loss: 3.2212e-05\n",
      "Epoch 17/100\n",
      "\u001b[1m59/59\u001b[0m \u001b[32m━━━━━━━━━━━━━━━━━━━━\u001b[0m\u001b[37m\u001b[0m \u001b[1m1s\u001b[0m 19ms/step - loss: 4.8869e-05 - val_loss: 3.3647e-05\n",
      "Epoch 18/100\n",
      "\u001b[1m59/59\u001b[0m \u001b[32m━━━━━━━━━━━━━━━━━━━━\u001b[0m\u001b[37m\u001b[0m \u001b[1m1s\u001b[0m 19ms/step - loss: 5.4390e-05 - val_loss: 2.8847e-05\n",
      "Epoch 19/100\n",
      "\u001b[1m59/59\u001b[0m \u001b[32m━━━━━━━━━━━━━━━━━━━━\u001b[0m\u001b[37m\u001b[0m \u001b[1m1s\u001b[0m 18ms/step - loss: 4.5417e-05 - val_loss: 2.8521e-05\n",
      "Epoch 20/100\n",
      "\u001b[1m59/59\u001b[0m \u001b[32m━━━━━━━━━━━━━━━━━━━━\u001b[0m\u001b[37m\u001b[0m \u001b[1m1s\u001b[0m 19ms/step - loss: 3.5911e-05 - val_loss: 2.7611e-05\n",
      "Epoch 21/100\n",
      "\u001b[1m59/59\u001b[0m \u001b[32m━━━━━━━━━━━━━━━━━━━━\u001b[0m\u001b[37m\u001b[0m \u001b[1m1s\u001b[0m 20ms/step - loss: 4.5860e-05 - val_loss: 3.4814e-05\n",
      "Epoch 22/100\n",
      "\u001b[1m59/59\u001b[0m \u001b[32m━━━━━━━━━━━━━━━━━━━━\u001b[0m\u001b[37m\u001b[0m \u001b[1m1s\u001b[0m 19ms/step - loss: 5.3897e-05 - val_loss: 3.2065e-05\n",
      "Epoch 23/100\n",
      "\u001b[1m59/59\u001b[0m \u001b[32m━━━━━━━━━━━━━━━━━━━━\u001b[0m\u001b[37m\u001b[0m \u001b[1m1s\u001b[0m 18ms/step - loss: 3.7704e-05 - val_loss: 3.1172e-05\n",
      "Epoch 24/100\n",
      "\u001b[1m59/59\u001b[0m \u001b[32m━━━━━━━━━━━━━━━━━━━━\u001b[0m\u001b[37m\u001b[0m \u001b[1m1s\u001b[0m 18ms/step - loss: 6.0268e-05 - val_loss: 2.6242e-05\n",
      "Epoch 25/100\n",
      "\u001b[1m59/59\u001b[0m \u001b[32m━━━━━━━━━━━━━━━━━━━━\u001b[0m\u001b[37m\u001b[0m \u001b[1m1s\u001b[0m 18ms/step - loss: 5.0217e-05 - val_loss: 2.5328e-05\n",
      "Epoch 26/100\n",
      "\u001b[1m59/59\u001b[0m \u001b[32m━━━━━━━━━━━━━━━━━━━━\u001b[0m\u001b[37m\u001b[0m \u001b[1m1s\u001b[0m 19ms/step - loss: 4.0764e-05 - val_loss: 2.5041e-05\n",
      "Epoch 27/100\n",
      "\u001b[1m59/59\u001b[0m \u001b[32m━━━━━━━━━━━━━━━━━━━━\u001b[0m\u001b[37m\u001b[0m \u001b[1m1s\u001b[0m 21ms/step - loss: 4.3563e-05 - val_loss: 2.3612e-05\n",
      "Epoch 28/100\n",
      "\u001b[1m59/59\u001b[0m \u001b[32m━━━━━━━━━━━━━━━━━━━━\u001b[0m\u001b[37m\u001b[0m \u001b[1m1s\u001b[0m 20ms/step - loss: 4.5967e-05 - val_loss: 2.6995e-05\n",
      "Epoch 29/100\n",
      "\u001b[1m59/59\u001b[0m \u001b[32m━━━━━━━━━━━━━━━━━━━━\u001b[0m\u001b[37m\u001b[0m \u001b[1m1s\u001b[0m 19ms/step - loss: 4.0704e-05 - val_loss: 2.4774e-05\n",
      "Epoch 30/100\n",
      "\u001b[1m59/59\u001b[0m \u001b[32m━━━━━━━━━━━━━━━━━━━━\u001b[0m\u001b[37m\u001b[0m \u001b[1m1s\u001b[0m 19ms/step - loss: 3.9067e-05 - val_loss: 2.7089e-05\n",
      "Epoch 31/100\n",
      "\u001b[1m59/59\u001b[0m \u001b[32m━━━━━━━━━━━━━━━━━━━━\u001b[0m\u001b[37m\u001b[0m \u001b[1m1s\u001b[0m 18ms/step - loss: 4.2681e-05 - val_loss: 2.5269e-05\n",
      "Epoch 32/100\n",
      "\u001b[1m59/59\u001b[0m \u001b[32m━━━━━━━━━━━━━━━━━━━━\u001b[0m\u001b[37m\u001b[0m \u001b[1m1s\u001b[0m 18ms/step - loss: 4.9376e-05 - val_loss: 2.2666e-05\n",
      "Epoch 33/100\n",
      "\u001b[1m59/59\u001b[0m \u001b[32m━━━━━━━━━━━━━━━━━━━━\u001b[0m\u001b[37m\u001b[0m \u001b[1m1s\u001b[0m 17ms/step - loss: 4.3499e-05 - val_loss: 2.4582e-05\n",
      "Epoch 34/100\n",
      "\u001b[1m59/59\u001b[0m \u001b[32m━━━━━━━━━━━━━━━━━━━━\u001b[0m\u001b[37m\u001b[0m \u001b[1m1s\u001b[0m 19ms/step - loss: 5.1616e-05 - val_loss: 2.3199e-05\n",
      "Epoch 35/100\n",
      "\u001b[1m59/59\u001b[0m \u001b[32m━━━━━━━━━━━━━━━━━━━━\u001b[0m\u001b[37m\u001b[0m \u001b[1m1s\u001b[0m 18ms/step - loss: 5.2107e-05 - val_loss: 2.0557e-05\n",
      "Epoch 36/100\n",
      "\u001b[1m59/59\u001b[0m \u001b[32m━━━━━━━━━━━━━━━━━━━━\u001b[0m\u001b[37m\u001b[0m \u001b[1m1s\u001b[0m 18ms/step - loss: 3.7872e-05 - val_loss: 2.1111e-05\n",
      "Epoch 37/100\n",
      "\u001b[1m59/59\u001b[0m \u001b[32m━━━━━━━━━━━━━━━━━━━━\u001b[0m\u001b[37m\u001b[0m \u001b[1m1s\u001b[0m 18ms/step - loss: 4.7649e-05 - val_loss: 2.1151e-05\n",
      "Epoch 38/100\n",
      "\u001b[1m59/59\u001b[0m \u001b[32m━━━━━━━━━━━━━━━━━━━━\u001b[0m\u001b[37m\u001b[0m \u001b[1m1s\u001b[0m 18ms/step - loss: 4.0545e-05 - val_loss: 1.8765e-05\n",
      "Epoch 39/100\n",
      "\u001b[1m59/59\u001b[0m \u001b[32m━━━━━━━━━━━━━━━━━━━━\u001b[0m\u001b[37m\u001b[0m \u001b[1m1s\u001b[0m 20ms/step - loss: 3.9472e-05 - val_loss: 2.0937e-05\n",
      "Epoch 40/100\n",
      "\u001b[1m59/59\u001b[0m \u001b[32m━━━━━━━━━━━━━━━━━━━━\u001b[0m\u001b[37m\u001b[0m \u001b[1m1s\u001b[0m 19ms/step - loss: 3.0072e-05 - val_loss: 1.9313e-05\n",
      "Epoch 41/100\n",
      "\u001b[1m59/59\u001b[0m \u001b[32m━━━━━━━━━━━━━━━━━━━━\u001b[0m\u001b[37m\u001b[0m \u001b[1m1s\u001b[0m 18ms/step - loss: 4.3679e-05 - val_loss: 1.7887e-05\n",
      "Epoch 42/100\n",
      "\u001b[1m59/59\u001b[0m \u001b[32m━━━━━━━━━━━━━━━━━━━━\u001b[0m\u001b[37m\u001b[0m \u001b[1m1s\u001b[0m 19ms/step - loss: 4.0792e-05 - val_loss: 1.8631e-05\n",
      "Epoch 43/100\n",
      "\u001b[1m59/59\u001b[0m \u001b[32m━━━━━━━━━━━━━━━━━━━━\u001b[0m\u001b[37m\u001b[0m \u001b[1m1s\u001b[0m 18ms/step - loss: 3.1965e-05 - val_loss: 1.8683e-05\n",
      "Epoch 44/100\n",
      "\u001b[1m59/59\u001b[0m \u001b[32m━━━━━━━━━━━━━━━━━━━━\u001b[0m\u001b[37m\u001b[0m \u001b[1m1s\u001b[0m 18ms/step - loss: 3.8407e-05 - val_loss: 1.8646e-05\n",
      "Epoch 45/100\n",
      "\u001b[1m59/59\u001b[0m \u001b[32m━━━━━━━━━━━━━━━━━━━━\u001b[0m\u001b[37m\u001b[0m \u001b[1m1s\u001b[0m 17ms/step - loss: 3.6374e-05 - val_loss: 1.8267e-05\n",
      "Epoch 46/100\n",
      "\u001b[1m59/59\u001b[0m \u001b[32m━━━━━━━━━━━━━━━━━━━━\u001b[0m\u001b[37m\u001b[0m \u001b[1m1s\u001b[0m 19ms/step - loss: 3.4354e-05 - val_loss: 1.8615e-05\n",
      "Epoch 47/100\n",
      "\u001b[1m59/59\u001b[0m \u001b[32m━━━━━━━━━━━━━━━━━━━━\u001b[0m\u001b[37m\u001b[0m \u001b[1m1s\u001b[0m 19ms/step - loss: 3.6926e-05 - val_loss: 1.8733e-05\n",
      "Epoch 48/100\n",
      "\u001b[1m59/59\u001b[0m \u001b[32m━━━━━━━━━━━━━━━━━━━━\u001b[0m\u001b[37m\u001b[0m \u001b[1m1s\u001b[0m 18ms/step - loss: 3.9170e-05 - val_loss: 2.2714e-05\n",
      "Epoch 49/100\n",
      "\u001b[1m59/59\u001b[0m \u001b[32m━━━━━━━━━━━━━━━━━━━━\u001b[0m\u001b[37m\u001b[0m \u001b[1m1s\u001b[0m 19ms/step - loss: 3.3284e-05 - val_loss: 2.1194e-05\n",
      "Epoch 50/100\n",
      "\u001b[1m59/59\u001b[0m \u001b[32m━━━━━━━━━━━━━━━━━━━━\u001b[0m\u001b[37m\u001b[0m \u001b[1m1s\u001b[0m 18ms/step - loss: 3.4730e-05 - val_loss: 1.5866e-05\n"
     ]
    }
   ],
   "source": [
    "from keras.callbacks import EarlyStopping\n",
    "\n",
    "callback = EarlyStopping(monitor='loss', patience=10, restore_best_weights=True)\n",
    "history = model.fit(X_train, y_train, validation_data=(X_test, y_test), epochs=100, batch_size=32, verbose=1, callbacks=[callback], shuffle=True)"
   ]
  },
  {
   "cell_type": "code",
   "execution_count": 12,
   "id": "bb7a9f1a",
   "metadata": {
    "execution": {
     "iopub.execute_input": "2021-08-19T20:51:55.730261Z",
     "iopub.status.busy": "2021-08-19T20:51:55.729623Z",
     "iopub.status.idle": "2021-08-19T20:51:55.738374Z",
     "shell.execute_reply": "2021-08-19T20:51:55.737691Z",
     "shell.execute_reply.started": "2021-08-19T20:38:15.945626Z"
    },
    "papermill": {
     "duration": 0.717569,
     "end_time": "2021-08-19T20:51:55.738521",
     "exception": false,
     "start_time": "2021-08-19T20:51:55.020952",
     "status": "completed"
    },
    "tags": []
   },
   "outputs": [
    {
     "data": {
      "text/html": [
       "<pre style=\"white-space:pre;overflow-x:auto;line-height:normal;font-family:Menlo,'DejaVu Sans Mono',consolas,'Courier New',monospace\"><span style=\"font-weight: bold\">Model: \"sequential\"</span>\n",
       "</pre>\n"
      ],
      "text/plain": [
       "\u001b[1mModel: \"sequential\"\u001b[0m\n"
      ]
     },
     "metadata": {},
     "output_type": "display_data"
    },
    {
     "data": {
      "text/html": [
       "<pre style=\"white-space:pre;overflow-x:auto;line-height:normal;font-family:Menlo,'DejaVu Sans Mono',consolas,'Courier New',monospace\">┏━━━━━━━━━━━━━━━━━━━━━━━━━━━━━━━━━┳━━━━━━━━━━━━━━━━━━━━━━━━┳━━━━━━━━━━━━━━━┓\n",
       "┃<span style=\"font-weight: bold\"> Layer (type)                    </span>┃<span style=\"font-weight: bold\"> Output Shape           </span>┃<span style=\"font-weight: bold\">       Param # </span>┃\n",
       "┡━━━━━━━━━━━━━━━━━━━━━━━━━━━━━━━━━╇━━━━━━━━━━━━━━━━━━━━━━━━╇━━━━━━━━━━━━━━━┩\n",
       "│ lstm (<span style=\"color: #0087ff; text-decoration-color: #0087ff\">LSTM</span>)                     │ (<span style=\"color: #00d7ff; text-decoration-color: #00d7ff\">None</span>, <span style=\"color: #00af00; text-decoration-color: #00af00\">100</span>)            │        <span style=\"color: #00af00; text-decoration-color: #00af00\">40,800</span> │\n",
       "├─────────────────────────────────┼────────────────────────┼───────────────┤\n",
       "│ dropout (<span style=\"color: #0087ff; text-decoration-color: #0087ff\">Dropout</span>)               │ (<span style=\"color: #00d7ff; text-decoration-color: #00d7ff\">None</span>, <span style=\"color: #00af00; text-decoration-color: #00af00\">100</span>)            │             <span style=\"color: #00af00; text-decoration-color: #00af00\">0</span> │\n",
       "├─────────────────────────────────┼────────────────────────┼───────────────┤\n",
       "│ dense (<span style=\"color: #0087ff; text-decoration-color: #0087ff\">Dense</span>)                   │ (<span style=\"color: #00d7ff; text-decoration-color: #00d7ff\">None</span>, <span style=\"color: #00af00; text-decoration-color: #00af00\">1</span>)              │           <span style=\"color: #00af00; text-decoration-color: #00af00\">101</span> │\n",
       "├─────────────────────────────────┼────────────────────────┼───────────────┤\n",
       "│ activation (<span style=\"color: #0087ff; text-decoration-color: #0087ff\">Activation</span>)         │ (<span style=\"color: #00d7ff; text-decoration-color: #00d7ff\">None</span>, <span style=\"color: #00af00; text-decoration-color: #00af00\">1</span>)              │             <span style=\"color: #00af00; text-decoration-color: #00af00\">0</span> │\n",
       "└─────────────────────────────────┴────────────────────────┴───────────────┘\n",
       "</pre>\n"
      ],
      "text/plain": [
       "┏━━━━━━━━━━━━━━━━━━━━━━━━━━━━━━━━━┳━━━━━━━━━━━━━━━━━━━━━━━━┳━━━━━━━━━━━━━━━┓\n",
       "┃\u001b[1m \u001b[0m\u001b[1mLayer (type)                   \u001b[0m\u001b[1m \u001b[0m┃\u001b[1m \u001b[0m\u001b[1mOutput Shape          \u001b[0m\u001b[1m \u001b[0m┃\u001b[1m \u001b[0m\u001b[1m      Param #\u001b[0m\u001b[1m \u001b[0m┃\n",
       "┡━━━━━━━━━━━━━━━━━━━━━━━━━━━━━━━━━╇━━━━━━━━━━━━━━━━━━━━━━━━╇━━━━━━━━━━━━━━━┩\n",
       "│ lstm (\u001b[38;5;33mLSTM\u001b[0m)                     │ (\u001b[38;5;45mNone\u001b[0m, \u001b[38;5;34m100\u001b[0m)            │        \u001b[38;5;34m40,800\u001b[0m │\n",
       "├─────────────────────────────────┼────────────────────────┼───────────────┤\n",
       "│ dropout (\u001b[38;5;33mDropout\u001b[0m)               │ (\u001b[38;5;45mNone\u001b[0m, \u001b[38;5;34m100\u001b[0m)            │             \u001b[38;5;34m0\u001b[0m │\n",
       "├─────────────────────────────────┼────────────────────────┼───────────────┤\n",
       "│ dense (\u001b[38;5;33mDense\u001b[0m)                   │ (\u001b[38;5;45mNone\u001b[0m, \u001b[38;5;34m1\u001b[0m)              │           \u001b[38;5;34m101\u001b[0m │\n",
       "├─────────────────────────────────┼────────────────────────┼───────────────┤\n",
       "│ activation (\u001b[38;5;33mActivation\u001b[0m)         │ (\u001b[38;5;45mNone\u001b[0m, \u001b[38;5;34m1\u001b[0m)              │             \u001b[38;5;34m0\u001b[0m │\n",
       "└─────────────────────────────────┴────────────────────────┴───────────────┘\n"
      ]
     },
     "metadata": {},
     "output_type": "display_data"
    },
    {
     "data": {
      "text/html": [
       "<pre style=\"white-space:pre;overflow-x:auto;line-height:normal;font-family:Menlo,'DejaVu Sans Mono',consolas,'Courier New',monospace\"><span style=\"font-weight: bold\"> Total params: </span><span style=\"color: #00af00; text-decoration-color: #00af00\">122,705</span> (479.32 KB)\n",
       "</pre>\n"
      ],
      "text/plain": [
       "\u001b[1m Total params: \u001b[0m\u001b[38;5;34m122,705\u001b[0m (479.32 KB)\n"
      ]
     },
     "metadata": {},
     "output_type": "display_data"
    },
    {
     "data": {
      "text/html": [
       "<pre style=\"white-space:pre;overflow-x:auto;line-height:normal;font-family:Menlo,'DejaVu Sans Mono',consolas,'Courier New',monospace\"><span style=\"font-weight: bold\"> Trainable params: </span><span style=\"color: #00af00; text-decoration-color: #00af00\">40,901</span> (159.77 KB)\n",
       "</pre>\n"
      ],
      "text/plain": [
       "\u001b[1m Trainable params: \u001b[0m\u001b[38;5;34m40,901\u001b[0m (159.77 KB)\n"
      ]
     },
     "metadata": {},
     "output_type": "display_data"
    },
    {
     "data": {
      "text/html": [
       "<pre style=\"white-space:pre;overflow-x:auto;line-height:normal;font-family:Menlo,'DejaVu Sans Mono',consolas,'Courier New',monospace\"><span style=\"font-weight: bold\"> Non-trainable params: </span><span style=\"color: #00af00; text-decoration-color: #00af00\">0</span> (0.00 B)\n",
       "</pre>\n"
      ],
      "text/plain": [
       "\u001b[1m Non-trainable params: \u001b[0m\u001b[38;5;34m0\u001b[0m (0.00 B)\n"
      ]
     },
     "metadata": {},
     "output_type": "display_data"
    },
    {
     "data": {
      "text/html": [
       "<pre style=\"white-space:pre;overflow-x:auto;line-height:normal;font-family:Menlo,'DejaVu Sans Mono',consolas,'Courier New',monospace\"><span style=\"font-weight: bold\"> Optimizer params: </span><span style=\"color: #00af00; text-decoration-color: #00af00\">81,804</span> (319.55 KB)\n",
       "</pre>\n"
      ],
      "text/plain": [
       "\u001b[1m Optimizer params: \u001b[0m\u001b[38;5;34m81,804\u001b[0m (319.55 KB)\n"
      ]
     },
     "metadata": {},
     "output_type": "display_data"
    }
   ],
   "source": [
    "model.summary()"
   ]
  },
  {
   "cell_type": "markdown",
   "id": "1433a756",
   "metadata": {
    "papermill": {
     "duration": 0.800039,
     "end_time": "2021-08-19T20:51:57.241085",
     "exception": false,
     "start_time": "2021-08-19T20:51:56.441046",
     "status": "completed"
    },
    "tags": []
   },
   "source": [
    "Now we are breaking our testing data up into time steps and splitting it again into our inputs and our expected outputs. \n",
    "\n",
    "We then predict on the inputs and then scale both the inputs and outputs back up, now were ready to see how we did!"
   ]
  },
  {
   "cell_type": "code",
   "execution_count": 13,
   "id": "91c25819",
   "metadata": {
    "execution": {
     "iopub.execute_input": "2021-08-19T20:51:58.711562Z",
     "iopub.status.busy": "2021-08-19T20:51:58.710907Z",
     "iopub.status.idle": "2021-08-19T20:51:59.393549Z",
     "shell.execute_reply": "2021-08-19T20:51:59.394121Z",
     "shell.execute_reply.started": "2021-08-19T20:38:15.954926Z"
    },
    "papermill": {
     "duration": 1.414536,
     "end_time": "2021-08-19T20:51:59.394379",
     "exception": false,
     "start_time": "2021-08-19T20:51:57.979843",
     "status": "completed"
    },
    "tags": []
   },
   "outputs": [
    {
     "name": "stdout",
     "output_type": "stream",
     "text": [
      "\u001b[1m18/18\u001b[0m \u001b[32m━━━━━━━━━━━━━━━━━━━━\u001b[0m\u001b[37m\u001b[0m \u001b[1m0s\u001b[0m 14ms/step\n"
     ]
    }
   ],
   "source": [
    "from keras.metrics import mean_absolute_error\n",
    "\n",
    "X_testing = []\n",
    "y_testing = []\n",
    "\n",
    "for i in range(time_steps, len(test_data)):\n",
    "    X_testing.append(test_scaled_data[i-time_steps:i,0])\n",
    "    y_testing.append(test_scaled_data[i, 0])\n",
    "\n",
    "X_testing, y_testing = np.array(X_testing), np.array(y_testing)\n",
    "X_testing = np.reshape(X_testing, (X_testing.shape[0], X_testing.shape[1], 1))\n",
    "\n",
    "predicted_price = model.predict(X_testing)\n",
    "inv_price = sc.inverse_transform(predicted_price)\n",
    "real_price = np.reshape(y_testing, (-1,1))\n",
    "real_price = sc.inverse_transform(real_price)"
   ]
  },
  {
   "cell_type": "code",
   "execution_count": 14,
   "id": "adffc0e7",
   "metadata": {
    "execution": {
     "iopub.execute_input": "2021-08-19T20:52:02.223151Z",
     "iopub.status.busy": "2021-08-19T20:52:02.222233Z",
     "iopub.status.idle": "2021-08-19T20:52:02.428898Z",
     "shell.execute_reply": "2021-08-19T20:52:02.428400Z",
     "shell.execute_reply.started": "2021-08-19T20:38:16.493469Z"
    },
    "papermill": {
     "duration": 0.911389,
     "end_time": "2021-08-19T20:52:02.429040",
     "exception": false,
     "start_time": "2021-08-19T20:52:01.517651",
     "status": "completed"
    },
    "tags": []
   },
   "outputs": [
    {
     "data": {
      "text/plain": [
       "<matplotlib.legend.Legend at 0x29978dd22a0>"
      ]
     },
     "execution_count": 14,
     "metadata": {},
     "output_type": "execute_result"
    },
    {
     "data": {
      "image/png": "[encoded data removed]",
      "text/plain": [
       "<Figure size 1300x700 with 1 Axes>"
      ]
     },
     "metadata": {},
     "output_type": "display_data"
    }
   ],
   "source": [
    "fig, ax = plt.subplots(1, figsize=(13, 7))\n",
    "ax.plot(real_price, label='Real', linewidth=2)\n",
    "ax.plot(inv_price, label='Pred', linewidth=2)\n",
    "ax.set_ylabel('Price USD', fontsize=14)\n",
    "ax.set_title('', fontsize=16)\n",
    "ax.legend(loc='best', fontsize=16)"
   ]
  },
  {
   "cell_type": "markdown",
   "id": "6cec1946",
   "metadata": {
    "papermill": {
     "duration": 0.696142,
     "end_time": "2021-08-19T20:52:03.825229",
     "exception": false,
     "start_time": "2021-08-19T20:52:03.129087",
     "status": "completed"
    },
    "tags": []
   },
   "source": [
    "It looks ok! \n",
    "\n",
    "You can see that the price climbed from 10k USD all the way up to 60k and back down to 35k. The largest problem I see with the predictions is that on the larger changes it lags a bit behind the actual prices. I assume this comes from the model still being innacurate when it comes to outrageous volatilitys like here."
   ]
  },
  {
   "cell_type": "markdown",
   "id": "85cbae15",
   "metadata": {},
   "source": []
  }
 ],
 "metadata": {
  "kernelspec": {
   "display_name": "Python 3",
   "language": "python",
   "name": "python3"
  },
  "language_info": {
   "codemirror_mode": {
    "name": "ipython",
    "version": 3
   },
   "file_extension": ".py",
   "mimetype": "text/x-python",
   "name": "python",
   "nbconvert_exporter": "python",
   "pygments_lexer": "ipython3",
   "version": "3.12.0"
  },
  "papermill": {
   "default_parameters": {},
   "duration": 232.921293,
   "end_time": "2021-08-19T20:52:06.949015",
   "environment_variables": {},
   "exception": null,
   "input_path": "__notebook__.ipynb",
   "output_path": "__notebook__.ipynb",
   "parameters": {},
   "start_time": "2021-08-19T20:48:14.027722",
   "version": "2.3.3"
  }
 },
 "nbformat": 4,
 "nbformat_minor": 5
}
